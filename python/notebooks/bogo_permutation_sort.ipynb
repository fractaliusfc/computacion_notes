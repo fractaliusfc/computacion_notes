{
  "nbformat": 4,
  "nbformat_minor": 0,
  "metadata": {
    "colab": {
      "provenance": []
    },
    "kernelspec": {
      "name": "python3",
      "display_name": "Python 3"
    },
    "language_info": {
      "name": "python"
    }
  },
  "cells": [
    {
      "cell_type": "markdown",
      "source": [
        "# Bogo Sort (Permutation Sort)"
      ],
      "metadata": {
        "id": "1XY-xyHv5Uzz"
      }
    },
    {
      "cell_type": "markdown",
      "source": [
        "## Introducción"
      ],
      "metadata": {
        "id": "YqKgGKwFUzE3"
      }
    },
    {
      "cell_type": "markdown",
      "source": [
        "*Bogo Sort* (también conocido como *permutation sort*) es un algoritmo para ordenamiento de números. Está basado en el paradigma **prueba y error**. Esto significa que, dada una lista de números desordenados, el algoritmo generará una **permutación** aleatoria de la lista esperando obtener la lista ordenada.\n",
        "\n",
        "Entre todos los algoritmos de ordenamiento de números, **Bogo Sort** es uno de los más lentos."
      ],
      "metadata": {
        "id": "1zjGIj5S5dCk"
      }
    },
    {
      "cell_type": "markdown",
      "source": [
        "![bogo-sort-kotlin.png](data:image/png;base64,iVBORw0KGgoAAAANSUhEUgAAAi4AAAGDCAIAAACDQgwlAAAAAXNSR0IArs4c6QAAAARnQU1BAACxjwv8YQUAAAAJcEhZcwAADsMAAA7DAcdvqGQAADbkSURBVHhe7d0JXFXV3j/+zayAyCAIKiLigKbiLIoTqTlmWpZpWpl103JCH72amqYmDg0OOdR1NqUcMitxnhLUHAEHQgUcUEDmeYbfZ7NXvvzbvf1fiLA2+Hm/eHzOXvtgX9bZZ33W93CO16CoqEghIiKSx1D8fyIiIkkYRUREJBmjiIiIJGMUERGRZIwiIiKSjFFERESSMYqIiEgyRhEREUnGj7jKd+HChT///FMcEFHpGBkZ9e7d29bWVhxTRcAoks/Hx2fZsmXigIhKx8zMLDAwsE2bNuKYKgJGkXxaFE2aNMnd3V0M6RIulSVLlqSmpk6ePNnOzk6M6lJMTMwXX3xRp04dzKoY0p+7d++iyKZNm44ZM0YM6dWZM2c2b948cuRILy8vMaRX33333bVr1xhFFQ/WF5JLWy4PHz4sjvWqsLDQ09PTxcUlMjJSDOnV9evX7e3te/ToIY516eLFi+bm5oMHDxbHOrZx40ZcouvWrRPHOjZkyBB0RRcuXBDHVEHwbQtERCQZo4iIiCRjFBERkWSMIiIikoxRREREkjGKiIhIMkYRERFJxigiIiLJGEVERCQZo4iIiCRjFBERkWSMIiIikoxRREREkjGKiIhIMkYRERFJxigiIiLJGEVERCQZo4iIiCRjFBERkWSMosqpsLAwNTU1MTExJSWloKBAjOpDUVFRRkYGasvMzBRDxQVnZWUlJydrNefl5YkTeoKq0tPTUSHgBmoWJyTBTD4+abm5ueKEouTn56elpWE8KSkJ84x7ihNS5eTkoB4U9sTU4VC7JHRVLZUnRlHldOvWrWHDhnXt2nX48OHh4eFiVAew6ISEhEyYMKFHjx7Lly/XBhGWv//+++zZswcNGtStW7chQ4Zs3Ljx8aDSA6yVmzdvHj16NCqHsWPHHj9+XGIa4T8dFBQ0Y8aMfv364YEePHjwt99+Gx8fj1P4c9OmTe+9955W6tSpUy9duiSxVEC6REVFLV26FPVMnDgR8SlOKAoe6GPHjmE+vb29e/bsOWvWrISEBHGOnhuMokoIu+NVq1YdPXo0NDQU6/7jT3u5sOisXbv27bff9vPzQ2F3797VxrG1Ryz9+OOPWIPQzGGJ9/Hx2b59u656I6T7l19+eeHCBTQc0dHRKA9LalhYmDhd7hCNW7Zs2bFjB2YMJQUGBiKW8Lgjcs6dO7d48eIrV67gSoiIiFizZs24ceMiIyPFd8rw22+/vfXWW8uWLbt8+TJm8lEDh8qx7XjnnXd+/vlnPNxom86cORMTE6OdpecHo6iywUp0+vTpn376CdtPW1tbMaoPiYmJCEjs4tu3by+GipmammIL/8MPP5w4cWLDhg3169dHaGE91VVj5OTktHDhwl9++QVFIpMsLCywpEpc383MzF555ZVt27ahpTh48KCXlxemC0mZnZ3duHFjRNGBAwcOHz48ZswYdCR//vnnzZs3xXfKsG/fvlq1ao0cOVIc/+XOnTurV69OSUmZPn36kSNH8LOgt3N1dRWn6bnBKKps0Fhgm2loaIidZvXq1cWoPtSoUcPX13fWrFl2dnZiqBii6OWXX8ZiivGmTZti0ceg3n5h4ODgMHjw4BdeeKFatWomJiYGBgZIent7e3G63GHSunfv7u3tjVnFbWNjYyMjI2dnZ0SUm5vbq6++Wq9ePcxkq1atcGfpkzllyhQ0vpg9cfwXtG7oLFu3bj169GhkFSa5RYsWiHlxmp4bjKJKBS3Rzz//jB3osGHD2rVrh+VSnNCHKlWqNGrU6J8XGuzfb9++jfUUy5O5ubkY1YdLly69/vrr/fv3nzhxIpb+CRMmYN0U5yRBMzFgwACUFBAQ0Lt373HjxiGQxLniF/HQXOJGgwYNkE/aoBQNGzZEZD5xQSIgb9y4UVBQgJpXrlyJJg/XrZ+fn666YSofjKJK5d69e99++621tTWe0ti5i9GKIzY2FktSdHR0hw4dsDDp7UdITEw8e/bs+fPnk5KS0IhERUXFxcWJc5KEhIScPn1ae/EtJycnNDQ0Pz9fO4Ub+/fv37lzJ5rjUaNGubi4aOO6gprx55kzZ9asWXPixIk9e/Yg5vfu3fvop6DnBKOoUsGT+cqVK/Xr10djcezYMWyKs7OzsS++f/++uIeOodolS5b4+/s7Ojp++umntWrVEid0w9PT88CBA0eOHJk6dWpeXt533323bds2bTGV5Ztvvjl58uT27ds9PDyOHj06f/58bEe0U1jfMY1I97eKITu1cR1Cc7llyxZ080OGDEG6Hz9+HBeDOEfPB0ZRpRITE5Obm3v48OFBgwa98847aC/i4+NnzpyJ1VPcQ69SUlKWLVuGlq5hw4ZojLp37y5O6ImlpeULL7zQtm3bjz/+GH8ijdAkZWVlidMyYNuBEHr55ZdHjx5tYGBw9epVbDuKiorQLU2ZMgWxhBCaM2cOGmXxDTqjvQbr7Oz84osvdu7cuVevXjjENay33xRSWWMUVSpYwWf/ZeLEiTY2NlZWViNGjGjZsqW4h1RYXzIzM7U3H+MQKw5uYynHjc2bN69YsQIrJir38vLCpjgtLU1XH84NDw//+eef7969m5iYeOHChTt37mDpr1OnjqxXEdPT09FGBAUFoR40wQhFTK+9vT0ecZQ6d+5cpNGAAQMmT55sZmamzbP4ThnwX39UAx5WPLh4iFGwu7s7JhCtPKY0MjLy9OnTmNUaNWpUxJeXqVRwNZBckyZNwgOBVkYcPyNRUVENGjTAWvnHH3+IodIpLCz09PR0cXHBkiGGSig2NnbUqFEtWrTQ3tpnZ2eH29OnT8df2KFDB4xgj4y2A4OAbfKlS5fEd5bQ9evXsSj36NFDHD8L+/fvd3BwwNLZrFkzJycnIyMjdCSnTp3CtIh7lNDFixfx8w4ePFgclxA6YDRD9erVQz2NGzeuWrUq/rbx48cjotasWVOtWjVDQ0M8+tpkonNCkyS+s+Q2btyIR2fdunXiuOTQmqMG1IO/x8LComnTpq+//npcXBx6ODRDmExcV/gp8CPgoj158uRTz+qQIUMQvQg2cUwVBLuiSsvU1BRrEJ7z+nlxBhtewKYYSxIix9HREbcxglKxrGNE+0AJBjW4QLVv1INWrVpNmDDB2dkZBbu5uX300Udbtmzp1KkTDsU9yhda3o8//hjrOGYPi2+/fv1Wr149Z84cLPS2trZNiiHyxVQWFGBxF98pA3IRBaAePMqIT0waRjCOUF+2bNm4ceNQM/q54cOHb9iwAW2xrFklWQx09Wx/Pvn4+ODZiK6oZ8+eYuhZwDNf+3fSsEF+/A2+Tw2XClbe6OjoEydOYDURoyWBYjIyMp74NxSwjGJHj1KfeNMUFiNUbmxsLI5LIjQ0tFu3bkjiZ/tLspycnOzsbCzrWEZRdpUqVUqzYqLn69KlS+/evX/66ScxVEKYz8zMTMwnHhoTExNMozZdqBPjTzy1kViWlpbioIQ2bdqEdhZd0ejRo8VQCeFxf+L9HSgV9WAmUSdmFTCIItEYlWZW0Wz9+uuvgYGBbdq0EUNUEbArqrTwJMc2Ey3RM8mhZwIlIV2w/30cdvFaqeL4L9j1P10OlR3ED/b1qA2zinVf+s4d84bVHBOFkh6PbdSpDT7uqXPomdB6tcfhEUf9OIVpxGSiYMDdpM8qScEoIiIiyRhFREQkGaOIiIgkYxQREZFkjCIiIpKMUURERJIxioiISDJGERERScYoIiIiyRhFREQkGaOIiIgkYxQREZFkjCIiIpKMUURERJIxioiISDJGERERScYoIiIiyRhFREQkGaOIiIgkYxTpRWFhYYG+5efnFxUVoVRxrG+oE9WKA13CI44KdV6kBqVWiEsUtFKpwjHAM0HcJEl8fHyWLVvm7u5uZWUlhvTq+vXreXl5KNXMzEwM6VJWVlZoaKi5uTlKFUP6k5mZifmsXr16w4YNxZBexcfHR0REuLq62tvbiyG9unXrVkZGRmBgYJs2bcQQVQSMIvkWLFiwceNGcUBEpWNqarpz585mzZqJY6oIGEXyJScnp6WliQMiKh0DAwMHBwcEkjimioBRREREkvFtC0REJBmjiIiIJGMUERGRZIwiIiKSjFFERESSMYqIiEgyRhEREUnGKCIiIskYRUREJBmjiIiIJGMUERGRZIwiIiKSjFFERESSMYqIiEgy/o9ESFNYWHjr1q3s7GxxTETPlKOjo4ODgzggfWMUSZOVldWrV6+QkBBxTETP1Ny5cydPniwOSN8YRdJkZmZ27tw5LCysffv2VapUEaN6lZycfPbsWScnJw8PDzGkY5jVyMjI1q1b63xTfPHixYSEBE9PTysrKzGkV7hcz507hwsV1YohHYuOjg4ODvb19Z0+fboYIp1DFJEUGRkZrVq1cnNzu3fvnhjSsTNnzuBqGTp0qDjWt2nTpqHavXv3imO9GjBgQNWqVRFI4ljHbt26Vbt27Q4dOhQWFoohHfPz88MFgCgSx6R7fNsCERFJxigiIiLJGEVERCQZo4iIiCRjFBERkWSMIiIikoxRREREkjGKiIhIMkYRERFJxigiIiLJGEVERCQZo4iIiCRjFBERkWSMIiIikoxRREREkjGKiIhIMkYRERFJxigiIiLJGEVERCQZo4iIiCRjFFU2RUVFSUlJ58+f9y92+fLlzMxMcU6qwsLCuLi4P/74A1Xt378/ODg4JydHO5WXl3f79u3ff/993759x48fj46Oxp21U/pRUFBw6dIlVHjgwAH8IGJUHzBjhw4dwgRmZWVpI7gMEhISzp07h6lGwaGhobm5udopufLz869fv45rACVhSsVosYyMDMwwTh08eDAsLEyH1wCVIVyyJAWeeK1atXJzc7t3754YehZu3bo1ePDgmjVrGharXbv21KlT4+PjxemndebMGVwtQ4cOFccld/Xq1Z49ezo4OGiFOTs7L1y4MDk5GUvkqlWrWrRoYWVlZWBgYGFh0bVrV6yeWInEd5bctGnTUO3evXvFcamhGIS6u7s7KjQ2Nt6xY4c4UToDBgyoWrXqxYsXxXHJpaam/vbbb926dTM1NW3WrFlERIQ2jserd+/e2mWAghs2bLh48eL09HTt7FPAdYVrqUOHDk/9uOAbY2JifH19UQyqmjBhwuP1hISEjBgxolatWjhlYmLSuXPnRz/LU/Dz88MFgP+WOCbdY1dU2WDD/uDBgx49evj4+OBPPPnXrVuHXkSclgeVoF3D+jhp0iQsNChy9erVQUFBaIlu3Lhhb28/atSokSNHYt0MCAhYsWIFUkp8pw6gs9y4cePdu3etra2xr9dJhwGbNm3Cmv7w4UNMo/aU1saxv8FCP3DgwDFjxjRo0ODmzZuYUuwGtLNSpKWlzZw5c+3atZg9xJIWadqplJQUxMauXbuqV68+duzYDz/8sGnTpsgk7Sw9D/hgVzZoL7Zv3/7tt98uXbp0/vz52GZmZ2cjBsRpebCh3rlz55o1a1DYnDlzatSogb4Qa2iVKlXQt23btu3LL79cuXJlp06dtO0zVlLxnbJhxTx+/DgWSuRo69atxag+ICOxcI8fP97IyEgMFevVqxcuA8TP119/PW7cOIxgHxAbG6udlQIRjtYNj3L37t3FUDFM79mzZ/fv3+/q6or+GAXDkiVL6tSpI+5BzwFGUWVjbm7u5OQUHx9/+fJlf39/9BbYFLdt21aclsfS0hKtD7Ln4sWLKAxJg51vy5YtsfmtXbt2zZo1sZhiqQLcuWrVqtoNPcAKjiXSxMTk/fffx7ZdjOoDel8EOXJdHP8F3VvdunUR85hVTCZGMJ/aDVlsbGyWLVvWp08fVCWGiqFJunTpEi5URBTSCP3c/fv3UTaIe9BzgFFUCZ0/f37AgAH9+/fHDhQBMHHixMaNG4tzUh0+fBhVDRw4EL2Rra3t5MmT69WrJ84Vu3btWkhICJYqLy8v3EGMyoYN+5kzZ7CGenh4GBgYiFF9QMD8c0kJCQmYdtxA6jdp0kQblAJ1/tftRV5eXnR0NG5cuXIFHZ63tzeu3kWLFqFy7Q70PGAUVWwFBQU3btw4W+zcuXPaKzDY/KLPqFOnDvahqamp33333cmTJ7X7y2VhYYHCAL0FdsErV65E2eKcouAHmTdv3t27d7t164YlCV2IOCHVnTt30BJhMtESPbGd1z+0nmhE9u3b5+LiMmXKlFq1aokTOlNY/GY5RBEyyc7ODo3R0qVLt27d+ug9llTpMYoqtqSkpPHjx3cs1qVLl507d2KwXbt2Bw8eDAgI8PPzc3R0vHDhwurVq/Xwlu6XXnoJO/RTp05t3rwZaYQbiMns7OyioiKsQTNmzED/gc374sWLXV1dxffIhhYTjRp27gjOSZMmXbp0CYPr16///vvvtTvoVm5uLupcvny5mZnZrFmz0NXp9o0AWmM3fPjwY8eOYdv0wQcfoHi0yLg2tDtQpccoqtjQAPXs2fPNYkOHDn3hhRfECUXBAoRMwnYeW86HDx/qZ4OJmr28vBwcHNDSoTAsOmjdVqxY4e/v36BBA19f3+bNm+vndTAUiQlEx7ZlyxbET2RkJAZPnDihk0bzf8nPzz906NBXX31lbm4+ceJEXB7GxsbinM4YGRlVq1YNN5CUqNbS0lK33RuVHUZRxWZhYTF16lR0P4C10tvb++jRo59//jm6onPnzq1du/bPP//EU71Jkybas12iffv2LVq0CF3R2bNn0WHcvn3b1NS0adOmKO+bb75ZtWqVtbX1v/71Lxsbm6CgIDQfaPjEd0rVo0cPTCl267Bnz56uXbti8JNPPsG0a3eQKyoq6vLlywhIdJZZWVnoJK5cuYJmAmE5bdq0mJiYV199tVu3bohSTGlERIT4NhmQjmFhYcHBwfHx8TiMi4vD7fDwcOyZ2rRpgxA6cODArl27fv311927dyM4GzVqVOFeEaWnhyuYpCijj7jiyVy3bl1EFJ7GeJLjGd69e3csQ+L00yr9R1w3bdpUs2bNxwsbOHAgls7Y2Ng+ffrgL0cnhHH0TBqEq/bRk6fwzD/iqsEaOmTIENS5bds2MVQ6pf+I6/jx4zGl2tsBUBjmFi0F0mju3LnaOq69cU6DWBLfVnKl/4grssfT0xNVaf0Z/sTtvn374hQis3///qhQuwDwE/Xu3RsppX3jU8DFg/8EP+JagRjhksVjRuUvLy9vw4YNOTk57777rpWVlRgtNUdHR8QbOgx7e/uWLVu+8847Pj4+6IpK+XsC7L7Xr1/frFkzrMViqISwkLm4uNja2jo4OGAXPGrUqIkTJ6JUXIXR0dFYfbALxmH9v2Axwv2f7pW6I0eOBAYGDhs27Nm+dRClYj1FiGLddHZ2FqOlgBUTDc17773n5OQkhkoIU1dQUIDpwk+qTWDz5s2xvmMwNzcXhw0aNNDmE7fbtm2rdXVPAU0qNhO4UN9///2ne1BQ0t27d/E3NGzYENXiT5TUsWNHlIRHv3379rg20LvjGhs+fPjkyZNR89P9h+Dq1atorXr27Nm5c2cxRDpXHEgkQRl1RWWk9F1ReSqjruiZK31XVG5K3xWVJ3ZFFQ5/V0RERJIxioiISDJGERERScYoIiIiyRhFREQkGaOIiIgkYxQREZFkjCIiIpKMUURERJIxioiISDJGERERScYoIiIiyRhFREQkGaOIiIgkYxQREZFkjCIiIpKMUURERJIxioiISDJGERERScYoIiIiyRhFREQkmUFRUZG4SeUrMzOzc+fOYWFh7du3r1KlihjVq+Tk5LNnzzo5OXl4eIghHcOsRkZGtm7d2sHBQQzp0sWLFxMSEjw9Pa2srMSQXuFyPXfuHC5UVCuGdCw6Ojo4ONjX13f69OliiPSNUSRNVlZWr169QkJCxDERPVNz586dPHmyOCB9YxRJU1hYeOvWrezsbHFMRM+Uo6OjzttieoRRREREkvFtC0REJBmjiIiIJGMUERGRZIwiIiKSjFFERESSMYqIiEgyRhEREUnGKCIiIskYRUREJBmjiIiIJGMUERGRZIwiIiKSjFFERESSMYqIiEgy/o9ElLf8/Pxjx46lpKSIYyIqS9WrV3/xxReNjY3FMekSo6i8ZWRkeHl5BQcHi2MiKkseHh6BgYEWFhbimHSJUVTetCiKjIx84403rKysxKiOxcXF/fDDD05OTkOGDBFD+hYaGrp///6OxcSQXp0p1rdv3yZNmoghfdu1a1d0dPSbb75pb28vhnQsNTV1x44drq6ujKIKAFFE5Sk9PR3bNBcXl9u3b4shfQsKCsLT+MUXXxTHurd161Zc2HPnzhXHOjZnzhyUioLFse7hMsDFgEtCHOsbnmJ4ouHphiedGCK94tsWiIhIMkYRERFJxigiIiLJGEVERCQZo4iIiCRjFBERkWSMIiIikoxRREREkjGKiIhIMkYRERFJxigiIiLJGEVERCQZo4iIiCRjFBERkWSMIiIikoxRREREkjGKiIhIMkYRERFJxigiIiLJGEVERCQZo6gCKyoqyi9WWFgohv6incrLy/uvZ8sf6kEZ/7UknCooKMAg4AYOxQkd0Ap7YgJxiHH9zO1/9ahCXc3nP9BmVb0Iii8DMUrPDUZRRZWZmXnw4ME33njjpZdeOnr0qBgtXtljY2O/++67V155pWPHjoMHD/bz88PTW5yWASWdP3/+s88+69OnT6dOnfr167d27dqHDx/iVG5u7pEjRyZPnty3b1+cGjFixO7du3NycrRvlAgzdvr06Q8//BBVbd68WYwqSkRExIoVK4YPH4657dGjx+LFiyMjI/W23N+7d2/06NGocMCAAb///rsY1bGEhIT//Oc/b731VufOnbt06TJhwoSgoKCKEqL0bODxpvKUnp7u4eHh4uJy+/ZtMVRyDx48mDRpUu3atQ0NDa2trbdu3SpOFBXhrx06dKiZmZmVlVXNmjVr1KgxaNCg5ORkcbrksChYWFi8+OKL4rjk8CO/9tprqMfBwQH1GBsbV6lSZerUqdnZ2VjHW7RoYWtri1KrVatmYGBgY2Oza9cuJIH45pLDbODCnjt3rjguuZSUlCVLlri5uZmYmDzxV/373//GhD/6QeDNN9+Mi4sTp0tozpw5+Psff/hKD1M3b948zDAm84lro/RwGeBi0HLiGdqzZw8edzs7O1wG5ubmqByZdPPmTXH6aeG5gCcanm64AsUQ6RW7ogoJG/b9+/f3798fT10xVKywsPDHH3/09/evV6/esmXLjh8//tNPP40bNw5Pb3EPGbBed+/e/YsvvkADtHfvXqwyCCH8CAhIFIbGbtu2bSdOnPj888+RRklJSbiNnk98swxXr17dsWMHam7UqJEY+guC09fXF5OPvMQPgnX/0KFDMTEx4rRseEpfu3YNfXDTpk2xsotR3XN0dETGoyFGfz9+/HhcFaGhoXgUxGl6DjCKKqRWrVpt2bJlwoQJ2KKKoWJYxw8cOJCRkeHj4/P22283adKkS5cuPXr00Hb3sqBFQxx+8MEHzZo1Q0mNGzfGthepg6rQXsycObNPnz7u7u59+/Z1cnLC/fPy8rCkat8rRf369RHkn376qVbP44YPHz5mzJjWrVt36NDB29sbI7m5ufr53Qb6uQ0bNsTHx6PIvxevW56enoiibt26IfvbtGmDlg7XjKWlpThNzwFGUYXk6urarl27vwcM1qCoqKjq1atjof/hhx9Wr17922+/ab+VkSsrKwuVrFixYvbs2Xv27Klbt+7QoUNtbGzE6WIJCQlYSQ0NDWvXrm1qaipGZUCv2alTJyyI4vi/QQJhqnHD2dlZP4vmuXPnfv75ZxTfq1cvzKQYrQjQA61Zs2bx4sVoOrGX6tevH/Zb4hw9BxhFFRK6ChAHj8GKj6dxenr6tGnT3n//ffQiI0eOHDt2rPRXkFDSN998M2nSpFWrVqF1a9u2Ldqgx99+hjt8++23cXFxGB80aNA/x0BZ+1/T+wjaoKNHj/r7+1etWnXEiBF16tQRJ6TCRgRhn5aWhga0Ro0aYrSCOH78OC4P7FSCgoLQz3l5eaExEufoOcAoqpzat2//2WefjR8/vqioaO/evYGBgXJf8kLfgFxcvnw5MhJNz08//YSAjIyM1M6mpqauXLly586d1tbWU6dObd68uTauT0jQM2fOTJ8+PTY2dsiQIVj39bBooqpjx45hQe/cuXOzZs0SExORl3jQkUxyf/H2d9HR0YgcXJwwY8aM8PBwDHp7ey9btmzJkiVdu3a9f/8+YunHH3/ku7qfH4yiSsXQ0BDbeaz7EyZMmDJlCp7nHh4eeD5r76ATd5IB3cOAAQOw9Hz66acoDMVcvXr14sWLWEBzc3Ox6KBnMjY2xgL02muvie/Rq7CwsPnz5yNHsegjkHTSf+BRvn79OtriU6dO9enT56WXXrp58yZ6zQULFmzatEnuu/mfgKTZsGEDHnHADRxiEPGJ3cnkyZOXLl3q5uaWkpJy6NAh7FG0b6FKj1FUqVhZWWFlxNM4KioKq7z2IUeEk9y3LaCGuLg4LIu4jbxBkbiB8rQKf/31V+RTRkbGrFmzfHx8qlWrVvxNOnX79u2ZM2eePHmyX79+6OSaNm36zy/llRuU4ejo2KBBA1wAiCUtexD5uI151u6jE40bN163bt3uYohJhBC2SmjjtGsVGynt5VlULnf/ROWJUVQh3blzB9vJHTt2YNuIruL48ePr169Hn1GzZk20QXg+L1u2bMWKFZ9//vnly5exQr3wwgsSf4kdExOD7gF5s2bNmi+++OLrr7/GYN26dbEGYWX39fV9+PBhnTp1sO5s27btP//5D/6U+1aL+Ph4Pz+/rVu3aht2dG+o6o8//sBauWrVqv3795uZmbm4uAQGBmIcq+rZs2e1b5QIGT9y5Mjf/3L48GHEEnJ99uzZ7777Ls6K++kAqurbt++rxXDDwsICs40+fvny5atXr0bB6DvRRrdv317n+xJ6lvD8p/KE5qD0H3FFCD3R6BgZGS1atAinTp061aVLF+1zgng+Y9uOAMjJydG+8SmU/iOuaImGDh1qZ2eHIlEVuqJWrVph9UFLhPaiVq1a4mf4C7IzICBAfHPJIULwl5TmI66nT5/++zsRsFampaW99NJL4vgv+KHGF/9O7imUxUdcNegy27RpY2Njs337djH0LJTFR1xxGWzZsgUTrjVD+BOXBPrjp/7g8CP8iGsFYoD/K35CUTnBGuHl5ZWcnIxVGM8TMVpCERERv/76K/ohcVy8Kfb29m7ZsmVhYSH28uiT0FjUqFEDW8uGDRuW5gW64OBgFNyhQ4fH/3mhkoqOjkZ/dvPmTaw76IfatWuHP7GIo2Hau3fvE78SsLS0HDRo0FN/LOb7779Hf4Ao0hb6p4BFcM+ePSkpKeK4WMeOHT09Pf39/W/cuPH4swbtZuvWrbXPGJUUivzss88QRSNGjBBDzwgauN27d+MHQdvh5uYmRkutR48e6A7RDmJ9F0PPArZKuDzQ1iclJdna2rq7u2OzUvrPZd+5c6dbt27W1tYo+IlP4JHuFAcSlZ9n0hWVp9J3ReWs9F1RuSm7rqiMlNE//FNG2BVVIPxdERERScYoIiIiyRhFREQkGaOIiIgkYxQREZFkjCIiIpKMUURERJIxioiISDJGERERScYoIiIiyRhFREQkGaOIiIgkYxQREZFkjCIiIpKMUURERJIxioiISDJGERERScYoIiIiyRhFREQkGaOIiIgkYxQREZFkBkVFReImlYuMjAwvL6/o6OglS5Y4ODiIUR2LjIycMmVK48aNfX19xZC+HT9+fOnSpW8VE0N6ta3Y1KlTvb29xZC+zZgxIyws7Msvv3R1dRVDOvbw4cNp06Y5OTkFBgZaWFiIUdIlRlF506IoODhYHBNRWfLw8GAU6R+jqLzl5OQsXLjw3r174piIypKzs/Mnn3xiZmYmjkmXGEVERCQZ37ZARESSMYqIiEgyRhEREUnGKCIiIskYRUREJBmjiIiIJGMUERGRZIwiIiKSjFFERESSMYqIiEgyRhEREUnGKCIiIskYRUREJBmjiIiIJGMUERGRZPzfKypvkZGRERER4oCIyl79+vUrxP8C+vOMUVTeFixYMHv2bHFARGVv/vz5s2bNEgekS4yi8qZFkZeXl5ubmxjSt5CQkKCgoApUcHCxClFweHh4YGCgRzExpG9awS1btmzRooUY0jetYEZRBYAoovKEZwWmfePGjeJY9+bNm4eCN23aJI51b+7cuSh48+bN4ljHUCRKRcHiWPdwGaBgXBLiWPfwREPBeNKJY9Irvm2BiIgkYxQREZFkjCIiIpKMUURERJIxioiISDJGERERScYoIiIiyRhFREQkGaOIiIgkYxQREZFkjCIiIpKMUURERJIxioiISDJGERERScYoIiIiyRhFREQkGaOIiIgkYxQREZFkjCIiIpKMUURERJIxioiISDJGUSVRVFSUmpp64cKFffv2HTx4MDw8PD8/X5zTpcLCQhSJag8cOPDw4UMxqieo8O7du5hMzGpubq42mJeXd/PmzWPHjqHyc+fOpaWlaePSoZKAgAB/f/+kpCQxVCwhISEwMBDVnjhx4t69e2JUtuTkZO1aPXTo0K1btwoKCjCIazg+Pv6PP/7A+NGjR6OiovAQaPenSo9RVEkkJiZOmTLl448/9vHxGTly5BtvvOHn56fnZ3JcXNyMGTNeLXb69GkxqhuYz7Vr12IaBw4cOH/+/JSUFG18y5YtY8aMwVS/8847r7zyCn6E2NhY7ZQs2HMghD766COUClevXtXG8ehjuX+32OTJkydMmLBu3TrtlFwxMTFTp07FtYqqcK2+/vrru3fvRsaHhYWNGzdu0qRJ+PO1114bPnw4Agn5JL6NKjVGUSVhZGTUunXrlStXHjlyBE/yy5cvY9F8YoOsK6dOnbp27Zq7uzvWGm1TrB9YxI8fP7569WrUZmBg8HiiOzg4YBn95ZdfPvnkk6ysrF27dknPUazsvr6+aDFNTU0xk4/WboT9okWLgoODUSrW9O3bt2N9107JZWho2LFjxxUrVuBa/fDDD69fv75t2zZcq6i/d+/emzZtwqziwsDEbty4MTs7W3wbVWqMokrC2tp67Nix7du3r1u3rqenJ9ajtLS0nJwccVpnEhISNm/e3Lx585YtW2KtF6O6gZIwh1gf//3vf1tYWIjRYi+//HKfPn2cnZ3REtnY2GRmZmLFF+ckQRkLFixYv359kyZNxFCxwMDAkydPos5hw4bVqVOnWbNmLVq0EOekQpy/9957HTp0QFVt2rQxMzNDDqErql+//qhRoxo3bow6u3TpgliNj4/X7TVMzxajqPLAkxbLYmho6M6dO62srLp3716jRg1xTk+wxPj7+2MvPGLEiGrVqolRPUEU1a5d28PD4x/Ku3fvHjbs5ubmuKcYkgRh2apVK0dHR3QbYqjYlStX0tPTceOrr76aNGnS8uXLb968qZPXuzB1iBlUiP4SZffs2dPW1lacU5Tc3Nw7d+5gvGbNmk9sBaiyYhRVHidOnPD29h4wYICfn1/r1q2xHTY1NRXn9ERribBJb9eunRiqaFJTU7du3ZqYmNi2bVvs68Wozty+fRu7k4MHD54+ffr8+fPz5s2bM2eOTl6z3bdvX9++fXGJ/vDDD+iM+/fvj95IO4WdCq5k1IxwHTRokImJiTZOlRujqKIKCwvTfnOOp+v8+fMx0rx5c19f388//3zYsGEXL17EuoPFSLuzfmCh2bNnz7Vr11CkPpu2/19ZWVmrV6/etWtXo0aNPv30U+zcxQmd0Rqgt99+G1sTBGeDBg0QSzdu3NDOyoVdyGeffYZrdejQoZcvX541a9bdu3e1UwihGTNmIOzHjRuHuNIGqdJjFFVU6Hhq167tXMze3h4jtWrVevnll994440pU6Zg8NixYzpZdx6XkpJy5MgRrJLXr19fu3btlStX8vPzDxw4EBQUVCHeuYtqsaCvWrWqevXqyCG0RDr8XZfGyckJF4mVlZW5ubmdnZ2trW16enpmZqY4LVXdunX79ev35ptvTp8+HddtQEAAdicYj42NXbRoEbZZODVmzBhUrt2fKj1GUUXl6uq6cOHCb775ZuXKlXjSJiUlRUZGYsOOVR7LDVbMqlWrPnrRQz8MDQ1dXFxQ/OHDh7///nssOuiTTp48iWSqEFF0/vx5tJu5ubnoRAcOHGhkZCRO6E+zZs2wlKPnyMjIiI6OfvDgQb169bDui9PyJCcnR0REaKGI2nCtmpiYoNTExMQvvvgCF8Prr7+OmLexsdHuT88DRlElgSXyX//61wcffPDhhx+OHz8+Pj5+xIgRHh4e4rRuWFtbY7k58xcsOshLbISHDx9ubGws7iQb4hzz+dFHH61YsQJrJVq3adOm7dixA3n/9ddfX716FaWeOnXKx8cH90FvJ7fVwAru6+v7f//3f8h1HH711VeoFtnTrVu3Ll26+Pv745KYMGECLonRo0djE6B9l0SXLl166623cK1iCwVolHGIa3X//v2bNm3CjgRZhW0W5hYzHB4eLr6NKjVGUSXRoUOHjz/+uHr16liY3N3dly9fjs071n1xWq/atGmD3sLZ2Vkc6wb6S6zmiJy+ffu2atUKi2NqairGMbevvPJK+/btExIScAdAPsnt57Q3PeNxb9eu3aBBgwwMDGJjY9FqoAFasmTJ2LFj0cPVqVMHIYrNih4a5bZt206cOBEXZ1xcXJMmTXCtzpo1Cz2QnZ1dr169evfujSZJm1v8II/+nQuq5LABpPKkvcVg48aN4lj35s2bh4KxXRXHujd37lwUvHnzZnGsYygSpaJgcax7uAxQMC4Jcax7eKKhYDzpxDHpFbsiIiKSjFFERESSMYqIiEgyRhEREUnGKCIiIskYRUREJBmjiIiIJGMUERGRZIwiIiKSjFFERESSMYqIiEgyRhEREUnGKCIiIskYRUREJBmjiIiIJGMUERGRZIwiIiKSjFFERESSMYqIiEgyRhEREUnGKCIiIskYRUREJJlBUVGRuEnlYsGCBbNnz/by8nJzcxND+hYSEhIUFFSBCg4uViEKDg8PDwwM9CgmhvRNK7hly5YtWrQQQ/qmFTx//vxZs2aJIdIlRlF506JIHBBR2WMU6R+jqLxFRkZGRESIAyIqe/Xr13d1dRUHpEuMIiIikoxvWyAiIskYRUREJBmjiIiIJGMUERGRZIwiIiKSjFFERESSMYqIiEgyRhEREUnGKCIiIskYRUREJBmjiIiIJGMUERGRZIwiIiKSjFFERESSMYqIiEgy/u8VyZGXl/fgwYP8/HxxTERlw8zMrFatWoaG3HbrGqNIjjt37rz66quxsbHimIjKhru7+549e6pVqyaOSZcYRXKEh4d37dr1QUKsUqeaYiAGdS0mU0nPVWpbKlWNxYieZeYrD9IVK1PFwVyM6BbqzC5QJ9bMSIzoWXqeEpOh2FRR7KqIET3LL1LupzV3fyEgIMDKykoMki4xiuQQUWSeqSzsohhVhJcOvrqgBN5XFnRWmtiJET0LiVM+O61411XGtRIjuoU6wxLVy6BedTGiZ7gGcCUMaaQMayJG9CwxS5kd2Ny+PqNI//j6qWzIISODCvCltW5PDOr2y7C4XFzdT4zr8AuV4gsFPzGuzy8xsX8b1+kX17cKgw8VERFJxigiIiLJGEVERCQZo4iIiCRjFBERkWSMIiIikoxRREREkjGKiIhIMkYRERFJxigiIiLJGEVERCQZo4iIiCRjFBERkWSMIiIikoxRREREkjGKiIhIMkYRERFJxigiIiLJGEVERCQZo4iIiCRjFFUuhUXK1Xhl41Vl7mnlk1PKVxeUP6KV/EJxVoei0pQvzyszTilfnFfiMsWgThQUKTeSlDVBysxT6jQ+EpOh/HJLnVuUveCssj9SSckRp2TJLVCC45QvL6j1XE8Qg1CkqLUduq2Oo1rc4XKsepFIlJGnBEQpqy6r1+fsAPVavZUkSkKpR+6op2YFqBfwD3+qUy21WCo3jKLKJS1X2XxNOXxbuZWsRKYoAfeV1UFK0EPJq8//kpmnHLitnIlW/kxQrsUrqbliXA9Q2/4IZdlFdXG8lqDEZYnxoiLlt3DF70/l0kPlTopyKVZdTH8JV7LzxR3KH1bwH8OUlZeUwPtKWKKSlC3G4WGm8l2Isu6KukG5l6ZWe/qBkit1axKaoGy6ppZxN00JS1J+DVcvUdSJS/RCjLL+inLmgXrpXolTf6hNV5WUx34cqrwYRZWLiaHSpqbycStlQWflo5ZKjarqOoVtcp4uG6PQROX0faW2pWJpqrvNb2Sqcvye0thWqWkhRgQDxcVKebeZMrejMrmt4lxN7UjOPlDS88T58ofHF8u3h71iZSpGNEjNE/eUizFKTXNlrIfyeWdlajulm7N6kUhU3Uzp5aJWgnqGNFKMDJTbqcrdVPWUXVV1ZKanMqeT0qwGZlrNKiQWPQcYRZWLuYnyprviVVtxqaa4WSv2VRUDA6WKsfqs1hs0cPsi1ATqX18xNRKD+uForoxurrzZWLE2EyMazGSvekrvekoDG3W5bGKnDiLpJfad9aork1orL7upD/Tj0GWiDUIP9FojNYGQoC0d1Jqx+kvU0EYZ6q5WUqeaetvMSK0HlRsaqIMoFVPayEZpYa8YG6ppqueXl+nZYRRVOhl5ysl76irv96f6Ml09K6VtTd2t9Vi4Q+KUG4lKO0fFtboY1BXbquqaaPKP84ZVXns1zMFc5gw7WigNbRWjvz2Xk3PU8ixN1OUe7dHB2+pLtbg8pIvJUIv5+aayM0ydQ89aakw+DvGDygsK1YhCF0XPAUZRpZOYrXx/Xf31wKkodafZ1E6xMtPdy19YjH4NF6/VPLGX1wl0Dv/cPGi/27gWr9bfo65S7f/74lh5+l+l5hSoX1n5yroQ5ZvLytog9W0LG6+q/ahcN5OUtcHK1uvqS4s1EPm2TwY5tlBno9WLtlMttXmi5wCjqCLLK1R/U41ntfZ1LkZ905dtFWVEU+WDFspL9dSXPvwjFb9QJUNP7wjAIn4ySglPVlsimyrqyogRrDvpeervXSoEzDM6DEws1nrkUMfakl/1+mdNayhvN1X6uqrdxu9RSkSyGJeloY0yxkP9fVt7RyU2Q30XA/r4ouLtEv6ISlPfeoMdVbMa6ou3aOnoOcAoqsjyCtSXuQ5Eiq8bieqabmGi/mKgX301kDxrqc/wK/FKrJ7eJ428wXKDHEUgfRqovkstNUcNpPUh6tvSKoRbScqOMCUpR2nrqAxsoFTR5XKpdUtVjZWBbsoAN+XVRoqTpXqFZMh7s5/G0UL9ZRuqwiWqve/jzANF+5VQXKay84baNjWyUYa5qy+T0vOBUVSRVTFWl5hZnuKrh4u60CRli94C+3TtvVIY1BUjQ/WXK1iDLE3UIg2L+wl13TT47y806Q1yFBt5dHVd6ijvNVffn6ZPlqbqy4boNeOL34mOjUtBoTrDct9Bhz0Hdh6oBFCJ9isu7QpNyVEbzdP31Rwa66G421aM64GeBUZRRYZFHAs6Nubal5OFukp+F6JsD1X23lJfiz8brT6Z8cS219NyiQVoaGNlYRfxNamN+ksjrJsftFBa1xT3kS4xW/1kKL4Sit+YcDVOndKwRHUN/bn4hqmRYmGsrpsY3xehbuRlic5QP+p07K76lgTsQi7EqId3UxW7KuqbVmDXDWX3DWVbqHI/Xe1IalsWf5skaIXXBqutz56bypbrap3YjuBxx4bp9AP1BWfcqFFVuRynfloLc3v5ofpyKFV2jKLKxcJE/Wzm4Tvqq+1YRouK1Cf5m+5KNRNxB51AP4cNu/al9kbYHRuo70SXu2F/XHS6+ml/fMVmqIcI9Y1X1VU+v0jNe/Vlrjzltwh1EF+Y7SB5Ly1GJCsbr6krOxqOnAL141Ao6XqCGpa9XdXeAgVjd3IhVn2z4vAmf/ukVPmqbqpEpavVYquE+bStov5S09tZvVbjM9U31CF4fo9SP9yqze3Je3w/9/PAoEj7bSGVr/Dw8K5duz4wz1QWd3vGv/HGdv52ivpGXgMD9bWjulbqWl96X5xX/+0G3y7ikzTPUFa++PcgWjqoUfpMBMcpcwLVNxSMby1GSgrLOv6SJ/4NhYY2ahuK8YS//vEFDR5BV2vRgpQU6kSP5dv16d/UHp+l/mMKj6/XqAcPExogPLmTstV/vgjBidSvX139GGlpLjdcA7gS3misRtrTQdIg5u+lqXsmMyOljpXapWELggvgTqr6sucTalmqaaq9iltSeC58cqq5ff2AgAArq6d6dKi8MIrkKMMoKiNlF0VlofRRVG5KH0XlqfRRVJ4YRRUHX6AjIiLJGEVERCQZo4iIiCRjFBERkWSMIiIikoxRREREkjGKiIhIMkYRERFJxigiIiLJGEVERCQZo4iIiCRjFBERkWSMIiIikoxRREREkjGKiIhIMkYRERFJxigiIiLJGEVERCQZo4iIiCRjFBERkWSMIiIiksygqKhI3KRyFB4e3rVr1wfp8Uo7R8XAQIzq2ZV4JTZDaeuoWJuJET1LzFYuxSq1LJWmdmJEt1BnSo46sdVMxYie4RrAleBaXXGzFiN6llOgXIhp3qBJQECAlZWVGCRdYhTJIaLowQNxTERlo3nz5owi/WMUyZGZmXn+/PmcnBxxTERlw9LSsn379sbGxuKYdIlRREREkvFtC0REJBmjiIiIJGMUERGRZIwiIiKSjFFERESSMYqIiEgyRhEREUnGKCIiIqkU5f8BZd8lmNLbz9IAAAAASUVORK5CYII=)"
      ],
      "metadata": {
        "id": "CKktGLppTfOr"
      }
    },
    {
      "cell_type": "markdown",
      "source": [
        "## Código"
      ],
      "metadata": {
        "id": "zHZI7RAD6PxX"
      }
    },
    {
      "cell_type": "code",
      "execution_count": null,
      "metadata": {
        "id": "HFR3JjAQ5NBX"
      },
      "outputs": [],
      "source": [
        "import time\n",
        "import numpy as np\n",
        "import matplotlib.pyplot as plt"
      ]
    },
    {
      "cell_type": "code",
      "source": [
        "plt.rc('xtick', labelsize=16)\n",
        "plt.rc('ytick', labelsize=16)\n",
        "plt.rc('axes', labelsize=16)"
      ],
      "metadata": {
        "id": "AosMu28vKBdW"
      },
      "execution_count": null,
      "outputs": []
    },
    {
      "cell_type": "code",
      "source": [
        "import random\n",
        "\n",
        "def bogosort(nums):\n",
        "    def isSorted(nums):\n",
        "        if len(nums) < 2:\n",
        "            return True\n",
        "        for i in range(len(nums) - 1):\n",
        "            if nums[i] > nums[i + 1]:\n",
        "                return False\n",
        "        return True\n",
        "\n",
        "    while not isSorted(nums):\n",
        "        random.shuffle(nums)\n",
        "    return nums"
      ],
      "metadata": {
        "id": "U9p9GC3uBCeY"
      },
      "execution_count": null,
      "outputs": []
    },
    {
      "cell_type": "code",
      "source": [
        "libreria.bogosort(lista)"
      ],
      "metadata": {
        "id": "QsubZawdkJuo"
      },
      "execution_count": null,
      "outputs": []
    },
    {
      "cell_type": "markdown",
      "source": [
        "## Probando el código"
      ],
      "metadata": {
        "id": "Y3JmMshDTnpM"
      }
    },
    {
      "cell_type": "markdown",
      "source": [
        "Probemos para una lista de dos elementos."
      ],
      "metadata": {
        "id": "mb-lWSWb7iP0"
      }
    },
    {
      "cell_type": "code",
      "source": [
        "lista = [2,1]\n",
        "bogosort(lista)\n",
        "print(\"La lista ordenada es:\")\n",
        "for i in range(len(lista)):\n",
        "    print(f\"{lista[i]}\")"
      ],
      "metadata": {
        "colab": {
          "base_uri": "https://localhost:8080/"
        },
        "id": "dBv0k4eO7nsS",
        "outputId": "e7c8c220-8fdb-4cb0-e3a8-593626ac017f"
      },
      "execution_count": null,
      "outputs": [
        {
          "output_type": "stream",
          "name": "stdout",
          "text": [
            "La lista ordenada es:\n",
            "1\n",
            "2\n"
          ]
        }
      ]
    },
    {
      "cell_type": "markdown",
      "source": [
        "## Listas de diferente tamaño"
      ],
      "metadata": {
        "id": "fkRCgJNUTrn_"
      }
    },
    {
      "cell_type": "markdown",
      "source": [
        "Midamos el tiempo que tarda con listas de diferente tamaño."
      ],
      "metadata": {
        "id": "waJPCi5Y8r7y"
      }
    },
    {
      "cell_type": "code",
      "source": [
        "print(\"N\\tLista\")\n",
        "for n_elem in range(2, 11):\n",
        "    np.random.seed(2)\n",
        "    lista = np.random.randint(1, 100, n_elem)\n",
        "    print(f\"{n_elem}\\t{lista}\")"
      ],
      "metadata": {
        "colab": {
          "base_uri": "https://localhost:8080/"
        },
        "id": "7ODuNCQg8zPq",
        "outputId": "5f89813c-e85d-44c0-c9e5-0251de875f91"
      },
      "execution_count": null,
      "outputs": [
        {
          "output_type": "stream",
          "name": "stdout",
          "text": [
            "N\tLista\n",
            "2\t[41 16]\n",
            "3\t[41 16 73]\n",
            "4\t[41 16 73 23]\n",
            "5\t[41 16 73 23 44]\n",
            "6\t[41 16 73 23 44 83]\n",
            "7\t[41 16 73 23 44 83 76]\n",
            "8\t[41 16 73 23 44 83 76  8]\n",
            "9\t[41 16 73 23 44 83 76  8 35]\n",
            "10\t[41 16 73 23 44 83 76  8 35 50]\n"
          ]
        }
      ]
    },
    {
      "cell_type": "code",
      "source": [
        "tiempos = []\n",
        "for i in range(10):\n",
        "    np.random.seed(2)\n",
        "    time1 = time.time()\n",
        "    lista2 = np.random.randint(1, 100, 2)\n",
        "    bogosort(lista2)\n",
        "    tiempos.append(time.time()-time1)\n",
        "print(f\"{np.mean(tiempos)}+-{np.std(tiempos)}\")"
      ],
      "metadata": {
        "colab": {
          "base_uri": "https://localhost:8080/"
        },
        "id": "8ricRWTQ9u6V",
        "outputId": "40eb5285-2f94-4e3d-bed1-bc6ffb8ad832"
      },
      "execution_count": null,
      "outputs": [
        {
          "output_type": "stream",
          "name": "stdout",
          "text": [
            "0.00011813640594482422+-0.00028219916857117824\n"
          ]
        }
      ]
    },
    {
      "cell_type": "code",
      "source": [
        "tiempos_totales = []\n",
        "std_totales = []\n",
        "print(\"n\\tt\\tstd\")\n",
        "for n_elem in range(2, 11):\n",
        "    tiempos = []\n",
        "    for i in range(10):\n",
        "        np.random.seed(2)\n",
        "        time1 = time.time()\n",
        "        lista = np.random.randint(1, 100, n_elem)\n",
        "        # print(lista)\n",
        "        bogosort(lista)\n",
        "        # print(lista)\n",
        "        tiempos.append(time.time()-time1)\n",
        "    tiempos_totales.append(np.mean(tiempos))\n",
        "    std_totales.append(np.std(tiempos))\n",
        "    print(f\"{n_elem}\\t{np.mean(tiempos)}\\t{np.std(tiempos)}\")"
      ],
      "metadata": {
        "colab": {
          "base_uri": "https://localhost:8080/"
        },
        "id": "IecP0OrtAFcp",
        "outputId": "ab42dc46-959b-479c-d370-1bb31c41a828"
      },
      "execution_count": null,
      "outputs": [
        {
          "output_type": "stream",
          "name": "stdout",
          "text": [
            "n\tt\tstd\n",
            "2\t3.1781196594238284e-05\t2.4902372620983077e-05\n",
            "3\t4.677772521972656e-05\t1.876607160472046e-05\n",
            "4\t9.784698486328124e-05\t7.199113643872049e-05\n",
            "5\t0.0009293556213378906\t0.0007373142724122699\n",
            "6\t0.002697253227233887\t0.0018580860577525273\n",
            "7\t0.023740148544311522\t0.018594217665426592\n",
            "8\t0.17600977420806885\t0.1673954393781612\n",
            "9\t1.6214158058166503\t1.5512371821840794\n",
            "10\t19.510009860992433\t13.235851922002777\n"
          ]
        }
      ]
    },
    {
      "cell_type": "code",
      "source": [
        "fig, ax = plt.subplots(figsize=(8,8))\n",
        "ax.errorbar(range(2, 11), tiempos_totales, yerr=std_totales, marker='x', c='k', ecolor='r')\n",
        "ax.set_title(\"Tiempos (lineales)\", fontsize=20)\n",
        "ax.set_xlabel(\"Num de elementos\")\n",
        "ax.set_ylabel(\"Tiempo [s]\")"
      ],
      "metadata": {
        "colab": {
          "base_uri": "https://localhost:8080/",
          "height": 546
        },
        "id": "DZpkAo1_8_k9",
        "outputId": "542d25df-b664-4433-98e6-e9a752cf925c"
      },
      "execution_count": null,
      "outputs": [
        {
          "output_type": "execute_result",
          "data": {
            "text/plain": [
              "Text(0, 0.5, 'Tiempo [s]')"
            ]
          },
          "metadata": {},
          "execution_count": 76
        },
        {
          "output_type": "display_data",
          "data": {
            "text/plain": [
              "<Figure size 576x576 with 1 Axes>"
            ],
            "image/png": "[encoded data removed]"
          },
          "metadata": {
            "needs_background": "light"
          }
        }
      ]
    },
    {
      "cell_type": "code",
      "source": [
        "fig, ax = plt.subplots(figsize=(8,8))\n",
        "ax.errorbar(range(2, 11), tiempos_totales, yerr=std_totales, marker='x', c='k', ecolor='r')\n",
        "ax.set_yscale('log', nonposy='clip')\n",
        "ax.set_title(\"Tiempos (logaritmico)\", fontsize=20)\n",
        "ax.set_xlabel(\"Num de elementos\")\n",
        "ax.set_ylabel(\"Tiempo [s]\")"
      ],
      "metadata": {
        "colab": {
          "base_uri": "https://localhost:8080/",
          "height": 546
        },
        "id": "5Mqwk5U724Zm",
        "outputId": "e09397ba-ea05-46ae-9969-08bd8785ea66"
      },
      "execution_count": null,
      "outputs": [
        {
          "output_type": "execute_result",
          "data": {
            "text/plain": [
              "Text(0, 0.5, 'Tiempo [s]')"
            ]
          },
          "metadata": {},
          "execution_count": 75
        },
        {
          "output_type": "display_data",
          "data": {
            "text/plain": [
              "<Figure size 576x576 with 1 Axes>"
            ],
            "image/png": "[encoded data removed]"
          },
          "metadata": {
            "needs_background": "light"
          }
        }
      ]
    },
    {
      "cell_type": "markdown",
      "source": [
        "Comparemos con el método de ordenamiento que trae por defecto python."
      ],
      "metadata": {
        "id": "7XkY3CsQTxpW"
      }
    },
    {
      "cell_type": "code",
      "source": [
        "tiempos_totales_py = []\n",
        "std_totales_py = []\n",
        "print(\"n\\tt\\tstd\")\n",
        "for n_elem in range(2, 11):\n",
        "    tiempos = []\n",
        "    for i in range(10):\n",
        "        np.random.seed(2)\n",
        "        time1 = time.time()\n",
        "        lista = np.random.randint(1, 100, n_elem)\n",
        "        # print(lista)\n",
        "        lista.sort()\n",
        "        # print(lista)\n",
        "        tiempos.append(time.time()-time1)\n",
        "    tiempos_totales_py.append(np.mean(tiempos))\n",
        "    std_totales_py.append(np.std(tiempos))\n",
        "    print(f\"{n_elem}\\t{np.mean(tiempos)}\\t{np.std(tiempos)}\")"
      ],
      "metadata": {
        "colab": {
          "base_uri": "https://localhost:8080/"
        },
        "id": "sSawwax19ZyM",
        "outputId": "6999100c-1318-4e99-f6e0-49d1ab43ba3d"
      },
      "execution_count": null,
      "outputs": [
        {
          "output_type": "stream",
          "name": "stdout",
          "text": [
            "n\tt\tstd\n",
            "2\t2.32696533203125e-05\t2.452589105663288e-05\n",
            "3\t1.800060272216797e-05\t7.635538786136034e-06\n",
            "4\t1.7881393432617188e-05\t6.197965994270544e-06\n",
            "5\t2.033710479736328e-05\t7.75505677535139e-06\n",
            "6\t2.1982192993164063e-05\t8.160605112402404e-06\n",
            "7\t1.652240753173828e-05\t6.821480126310275e-06\n",
            "8\t1.5401840209960936e-05\t6.422449568673679e-06\n",
            "9\t1.5211105346679687e-05\t5.585104702157069e-06\n",
            "10\t1.8358230590820312e-05\t9.350751140507104e-06\n"
          ]
        }
      ]
    },
    {
      "cell_type": "code",
      "source": [
        "fig, ax = plt.subplots(figsize=(8,8))\n",
        "ax.scatter(range(2,11), tiempos_totales, label='Bogosort')\n",
        "ax.scatter(range(2,11), tiempos_totales_py, label='Python')\n",
        "ax.set_yscale('log', nonposy='clip')\n",
        "ax.legend(fontsize=16)\n",
        "ax.set_title(\"Comparacion entre algoritmos\",fontsize=20)\n",
        "ax.set_xlabel(\"Num de elementos\")\n",
        "ax.set_ylabel(\"Tiempo [s]\")"
      ],
      "metadata": {
        "colab": {
          "base_uri": "https://localhost:8080/",
          "height": 546
        },
        "id": "mBGfqDe--CzL",
        "outputId": "17122593-7ab6-4ab7-f5dc-228ae39bda23"
      },
      "execution_count": null,
      "outputs": [
        {
          "output_type": "execute_result",
          "data": {
            "text/plain": [
              "Text(0, 0.5, 'Tiempo [s]')"
            ]
          },
          "metadata": {},
          "execution_count": 80
        },
        {
          "output_type": "display_data",
          "data": {
            "text/plain": [
              "<Figure size 576x576 with 1 Axes>"
            ],
            "image/png": "[encoded data removed]"
          },
          "metadata": {
            "needs_background": "light"
          }
        }
      ]
    },
    {
      "cell_type": "markdown",
      "source": [
        "## Probemos distintos tipos de listas desordenadas"
      ],
      "metadata": {
        "id": "6tyizwucT3W_"
      }
    },
    {
      "cell_type": "code",
      "source": [
        "lista_ord = [8, 16, 23, 35, 41, 44, 73, 76, 83]\n",
        "lista_rnd = [41, 16, 73, 23, 44, 83, 76, 8, 35]\n",
        "lista_rev = [83, 76, 73, 44, 41, 35, 23, 16, 8]\n",
        "lista_one = [83, 8, 16, 23, 35, 41, 44, 73, 76]\n",
        "lista_unq = [41, 16, 73, 23, 41, 16, 41, 16, 23]\n",
        "listas_bib = {'rnd':lista_rnd, 'rev':lista_rev, 'one':lista_one, 'unique':lista_unq}"
      ],
      "metadata": {
        "id": "kGYE-ra7-Ze7"
      },
      "execution_count": null,
      "outputs": []
    },
    {
      "cell_type": "code",
      "source": [
        "tiempos_totales_tests = []\n",
        "std_totales_tests = []\n",
        "print(\"Type\\tt\\tstd\")\n",
        "for key in listas_bib.keys():\n",
        "    tiempos = []\n",
        "    for i in range(10):\n",
        "        np.random.seed(2)\n",
        "        time1 = time.time()\n",
        "        lista = listas_bib[key].copy()\n",
        "        # print(lista)\n",
        "        bogosort(lista)\n",
        "        # print(lista)\n",
        "        tiempos.append(time.time()-time1)\n",
        "    tiempos_totales_tests.append(np.mean(tiempos))\n",
        "    std_totales_tests.append(np.std(tiempos))\n",
        "    print(f\"{key}\\t{np.mean(tiempos)}\\t{np.std(tiempos)}\")"
      ],
      "metadata": {
        "colab": {
          "base_uri": "https://localhost:8080/"
        },
        "id": "hUtVpkY2ABQ3",
        "outputId": "74be94e2-1bd2-464f-947d-a603fd13ae37"
      },
      "execution_count": null,
      "outputs": [
        {
          "output_type": "stream",
          "name": "stdout",
          "text": [
            "Type\tt\tstd\n",
            "rnd\t0.9212886333465576\t0.6313954171100182\n",
            "rev\t1.8140833616256713\t1.0760522006128235\n",
            "one\t0.9726942777633667\t1.1349695787862142\n",
            "unique\t0.015621232986450195\t0.01505817191154515\n"
          ]
        }
      ]
    },
    {
      "cell_type": "markdown",
      "source": [
        "De una vez comparemos con el método de python"
      ],
      "metadata": {
        "id": "eLAbVLLXT9BE"
      }
    },
    {
      "cell_type": "code",
      "source": [
        "tiempos_totales_tests_py = []\n",
        "std_totales_tests_py = []\n",
        "print(\"Type\\tt\\tstd\")\n",
        "for key in listas_bib.keys():\n",
        "    tiempos = []\n",
        "    for i in range(10):\n",
        "        np.random.seed(2)\n",
        "        time1 = time.time()\n",
        "        lista = listas_bib[key].copy()\n",
        "        # print(lista)\n",
        "        lista.sort()\n",
        "        # print(lista)\n",
        "        tiempos.append(time.time()-time1)\n",
        "    tiempos_totales_tests_py.append(np.mean(tiempos))\n",
        "    std_totales_tests_py.append(np.std(tiempos))\n",
        "    print(f\"{key}\\t{np.mean(tiempos)}\\t{np.std(tiempos)}\")"
      ],
      "metadata": {
        "colab": {
          "base_uri": "https://localhost:8080/"
        },
        "id": "eOpU9lK4FIHF",
        "outputId": "3f0ab46d-3be4-4157-aba0-4e55d2e677bd"
      },
      "execution_count": null,
      "outputs": [
        {
          "output_type": "stream",
          "name": "stdout",
          "text": [
            "Type\tt\tstd\n",
            "rnd\t1.1205673217773438e-06\t1.0823783362213295e-06\n",
            "rev\t8.344650268554688e-07\t5.250624548326788e-07\n",
            "one\t9.775161743164062e-07\t6.437301635742187e-07\n",
            "unique\t9.5367431640625e-07\t5.642013342952362e-07\n"
          ]
        }
      ]
    },
    {
      "cell_type": "code",
      "source": [
        "fig, ax = plt.subplots(figsize=(8,8))\n",
        "ax.scatter(range(4), tiempos_totales_tests, label='Bogosort')\n",
        "ax.scatter(range(4), tiempos_totales_tests_py, label='Python')\n",
        "ax.set_yscale('log', nonposy='clip')\n",
        "ax.set_xticks(range(4))\n",
        "ax.set_xticklabels(['Random', 'Reverse', 'One', 'Uniques'])\n",
        "ax.set_title(\"Probando algoritmos\", fontsize=20)\n",
        "ax.set_ylabel(\"Tiempo [s]\")"
      ],
      "metadata": {
        "colab": {
          "base_uri": "https://localhost:8080/",
          "height": 527
        },
        "id": "oNe-1DiCGQgR",
        "outputId": "a9cc4085-4c23-4492-d5b3-53cd84d5345b"
      },
      "execution_count": null,
      "outputs": [
        {
          "output_type": "execute_result",
          "data": {
            "text/plain": [
              "Text(0, 0.5, 'Tiempo [s]')"
            ]
          },
          "metadata": {},
          "execution_count": 82
        },
        {
          "output_type": "display_data",
          "data": {
            "text/plain": [
              "<Figure size 576x576 with 1 Axes>"
            ],
            "image/png": "[encoded data removed]"
          },
          "metadata": {
            "needs_background": "light"
          }
        }
      ]
    },
    {
      "cell_type": "markdown",
      "source": [
        "## Conclusiones"
      ],
      "metadata": {
        "id": "YVGzpsA3UAxm"
      }
    },
    {
      "cell_type": "markdown",
      "source": [
        "\n",
        "\n",
        "*   El algoritmo **bogosort** es uno de los más lentos para el ordenamiento de números.\n",
        "*   El algoritmo depende del tipo de lista a ordenar, siendo algunos casos favorables para el procedimiento.\n",
        "*   El algoritmo depende del número a elementos a ordenar.\n",
        "*   La simpleza de este algoritmo hace que sea fácil de implementar pero no es eficiente.\n",
        "\n"
      ],
      "metadata": {
        "id": "8jvO_LBIUC3I"
      }
    },
    {
      "cell_type": "code",
      "source": [],
      "metadata": {
        "id": "cXp7Dl9_UB5d"
      },
      "execution_count": null,
      "outputs": []
    }
  ]
}